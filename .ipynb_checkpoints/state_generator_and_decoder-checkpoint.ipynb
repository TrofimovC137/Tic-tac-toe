{
 "cells": [
  {
   "cell_type": "markdown",
   "metadata": {},
   "source": [
    "## В классе\n",
    "Придумать спецификацию класса агента – игрока"
   ]
  },
  {
   "cell_type": "code",
   "execution_count": 1,
   "metadata": {},
   "outputs": [],
   "source": [
    "WEIGHT_FROM_FILE = False\n",
    "p = 0.3\n",
    "alpha = 0.5\n",
    "update_before_rndom_move = True"
   ]
  },
  {
   "cell_type": "code",
   "execution_count": 2,
   "metadata": {},
   "outputs": [],
   "source": [
    "class AgentTicTac:\n",
    "    def __init__(self, is_zero):\n",
    "    #is_zero == True если нолик\n",
    "        self.is_zero = True\n",
    "        self.label = int(not is_zero)\n",
    "        self.way = []\n",
    "        if WEIGHT_FROM_FILE:\n",
    "            self.state_matrix = pd.read_csv('weight{}.csv'.format(self.label), dtype={'states': object}).set_index('states')\n",
    "            self.state_matrix['possible_moves'] = self.state_matrix['possible_moves'].apply(lambda x: ast.literal_eval(x))\n",
    "        else:\n",
    "            self.state_matrix = state_generate(self.is_zero)\n",
    "    def get_action(self, state):\n",
    "    # пример state = [[1,0,1],[0,1,0],[0,1,0]] 1 - это крестик, 0 - это нолик, -1 - пусто\n",
    "        now_state = self.state_matrix.loc[get_code_from_state(state)]\n",
    "        pos_move = pd.DataFrame(now_state['possible_moves'])\n",
    "        if np.random.random() < p:\n",
    "            new_state = pos_move.sample(n = 1).iloc[0]\n",
    "            new_state_value = self.state_matrix.loc[new_state['state'], 'value']\n",
    "            self.way.append(((now_state.name, now_state.value), (new_state['state'], new_state_value)))\n",
    "            #self.state_matrix.loc[get_code_from_state(state), 'value'] = now_state['value'] + alpha*(new_state_value -\n",
    "            #                                                                                         now_state['value'])\n",
    "            return new_state['move']\n",
    "        else:\n",
    "            pos_move['value'] = pos_move['state'].apply(lambda x: self.state_matrix.loc[x, 'value'])\n",
    "            new_state = pos_move[pos_move['value']==pos_move['value'].max()].iloc[0]\n",
    "            new_state_value = self.state_matrix.loc[new_state['state'], 'value']\n",
    "            self.way.append(((now_state.name, now_state.value), (new_state['state'], new_state_value)))\n",
    "            #self.state_matrix.loc[get_code_from_state(state), 'value'] = now_state['value'] + alpha*(new_state['value'] -\n",
    "            #                                                                                         now_state['value'])\n",
    "            return new_state['move']\n",
    "    def save_weight(self):\n",
    "        self.state_matrix.to_csv('weight{}.csv'.format(self.label))\n",
    "    def is_done(self, state, reward):\n",
    "        if reward == 1:\n",
    "            for move in self.way[::-1]:\n",
    "                self.state_matrix.loc[move[0][0], 'value'] = move[0][1] + alpha*(move[1][1] -move[0][1])\n",
    "    # reward - вознаграждение 1 если выиграли , вызывается когда игра закончена\n",
    "        \n",
    "class AgentTicTac_e:\n",
    "    def __init__(self, is_zero, parent_weights):\n",
    "    #is_zero == True если нолик\n",
    "        self.is_zero = True\n",
    "        self.label = int(not is_zero)\n",
    "        if parent_weights:\n",
    "            self.state_matrix = #Тут твоя функция, которая меняет веса\n",
    "        else:\n",
    "            if WEIGHT_FROM_FILE:\n",
    "                self.state_matrix = pd.read_csv('weight_e{}.csv'.format(self.label), dtype={'states': object}).set_index('states')\n",
    "                self.state_matrix['possible_moves'] = self.state_matrix['possible_moves'].apply(lambda x: ast.literal_eval(x))\n",
    "            else:\n",
    "                self.state_matrix = #Тут твоя функция, которая генерирует случайную матрицу от parent_weights\n",
    "    def get_action(self, state):\n",
    "        now_state = self.state_matrix.loc[get_code_from_state(state)]\n",
    "        pos_move = pd.DataFrame(now_state['possible_moves'])\n",
    "        pos_move['value'] = pos_move['state'].apply(lambda x: self.state_matrix.loc[x, 'value'])\n",
    "        new_state = pos_move[pos_move['value']==pos_move['value'].max()].iloc[0]\n",
    "        return new_state['move']\n",
    "    def save_weight(self):\n",
    "        self.state_matrix.to_csv('weight_e{}.csv'.format(self.label))\n",
    "    def is_done(self, state, reward):\n",
    "        return 0\n",
    "        "
   ]
  },
  {
   "cell_type": "markdown",
   "metadata": {},
   "source": [
    "## Дома\n",
    "Написать класс, который берет два экземпляра классов агентов и играет\n",
    "\n",
    "Реализовать игроков на на основе обучения с подкреплением и эволюционного подхода\n",
    "\n",
    "Поведём состязание\n",
    "\n",
    "Проверить: как лучше – корректировать ценности после всех ходов или только \"жадных\"?"
   ]
  },
  {
   "cell_type": "code",
   "execution_count": 3,
   "metadata": {},
   "outputs": [],
   "source": [
    "import numpy as np\n",
    "import pandas as pd\n",
    "import matplotlib.pyplot as plt\n",
    "import re\n",
    "import ast"
   ]
  },
  {
   "cell_type": "code",
   "execution_count": 4,
   "metadata": {},
   "outputs": [],
   "source": [
    "#проверка победы\n",
    "def check_win(state, label):\n",
    "    for i in range(3):\n",
    "        if np.all(state[i,:] == int(label)):\n",
    "            return True\n",
    "        elif np.all(state[:,i] == int(label)):\n",
    "            return True\n",
    "    if np.all(np.fliplr(state).diagonal() == int(label)):\n",
    "        return True\n",
    "    if np.all(state.diagonal() == int(label)):\n",
    "        return True\n",
    "    return False\n",
    "\n",
    "#вывод поля состояния в виде матрицы\n",
    "def get_state_from_code(code):\n",
    "    return np.array(re.findall(r'\\d', code)).reshape((3,3)).astype('int')-1\n",
    "\n",
    "#\n",
    "def get_code_from_state(state):\n",
    "    result = ''\n",
    "    for s in (state.flatten()+1).astype('str'):\n",
    "        result += s\n",
    "    return result\n"
   ]
  },
  {
   "cell_type": "markdown",
   "metadata": {},
   "source": [
    "## функция выбора след.хода\n",
    "\n",
    "скопировала твой гениратор и добавила своего кода, поправь пожалст, а то прям видно что писал недопрограммист))"
   ]
  },
  {
   "cell_type": "code",
   "execution_count": 5,
   "metadata": {},
   "outputs": [],
   "source": [
    "#получаем индексы свободных полей\n",
    "def get_free_field(state):\n",
    "    index = []\n",
    "    for i in range(3):\n",
    "        for j in range(3):\n",
    "            if state[i][j]==-1:\n",
    "                index.append((i,j))\n",
    "    return index"
   ]
  },
  {
   "cell_type": "code",
   "execution_count": 6,
   "metadata": {},
   "outputs": [],
   "source": [
    "#получение списка следующих возможных ходов\n",
    "def get_possible_state(state, label):\n",
    "    pos_state = []\n",
    "    index = get_free_field(state)\n",
    "    for i,j in index:\n",
    "        s=state\n",
    "        s[i][j]=label\n",
    "        pos_state.append(get_code_from_state(s))\n",
    "    return pos_state"
   ]
  },
  {
   "cell_type": "code",
   "execution_count": 7,
   "metadata": {},
   "outputs": [],
   "source": [
    "#следующие возможные ходы, может я твой код не так понял, но у меня он что-то странное выдавал\n",
    "def get_possible_move_from_code(state, label):\n",
    "    label = str(int(label)+1)\n",
    "    states = {'state':[], 'move':[]}\n",
    "    for i in range(len(state)):\n",
    "        if state[i]=='0':\n",
    "            states['state'].append(state[:i]+label+state[i+1:])\n",
    "            states['move'].append(((i)//3,i%3))\n",
    "    return states"
   ]
  },
  {
   "cell_type": "code",
   "execution_count": 59,
   "metadata": {},
   "outputs": [],
   "source": [
    "#генирация состояний со следующими ходами\n",
    "#гениратор состояний\n",
    "def state_generate(label):\n",
    "    states = []\n",
    "    values = []\n",
    "    for i in range(19683):\n",
    "        s = np.base_repr(i,base=3)\n",
    "        s = '0'*(9-len(s)) + s\n",
    "        states.append(s)\n",
    "        if check_win(get_state_from_code(s), label):\n",
    "            values.append(1)\n",
    "        else:\n",
    "            values.append(0.5)\n",
    "    states = np.array(states)\n",
    "    pos_st = []\n",
    "    for state_code in states:\n",
    "        pos_st.append(get_possible_move_from_code(state_code, label))\n",
    "    return pd.DataFrame({'states':states, 'value':values,'possible_moves':pos_st}).set_index('states')"
   ]
  },
  {
   "cell_type": "code",
   "execution_count": 8,
   "metadata": {},
   "outputs": [],
   "source": [
    "import matplotlib.pyplot as plt\n",
    "from tqdm import tqdm"
   ]
  },
  {
   "cell_type": "code",
   "execution_count": 9,
   "metadata": {},
   "outputs": [],
   "source": [
    "#проведение 1 раунда\n",
    "def two_came_in_one_came_out(agent_zeros, agent_ones, print_state = False):\n",
    "    state = (np.zeros((3,3))-1).astype('int')\n",
    "    while -1 in state:\n",
    "        #ход креста\n",
    "        state[agent_ones.get_action(state)] = 1\n",
    "        if print_state:\n",
    "            print(state)\n",
    "            print()\n",
    "        if check_win(state, 1):\n",
    "            agent_ones.is_done(state, True)\n",
    "            agent_zeros.is_done(state, False)\n",
    "            return 1\n",
    "        if not(-1 in state):\n",
    "            break\n",
    "        state[agent_zeros.get_action(state)] = 0\n",
    "        if print_state:\n",
    "            print(state)\n",
    "            print()\n",
    "        if check_win(state, 0):\n",
    "            agent_ones.is_done(state, False)\n",
    "            agent_zeros.is_done(state, True)\n",
    "            return 0\n",
    "    agent_ones.is_done(state, False)\n",
    "    agent_zeros.is_done(state, False)\n",
    "    return -1\n",
    "def fit(agent_zeros, agent_ones, epochs, step_per_epoch, save_config = False, plot_win = False):\n",
    "    history = {\n",
    "        'epoch':[],\n",
    "        'zeros win':[],\n",
    "        'ones win':[],\n",
    "        'draw':[]\n",
    "    }\n",
    "    for epoch in tqdm(np.arange(epochs)):\n",
    "        z_win = 0\n",
    "        o_win = 0\n",
    "        draw = 0\n",
    "        for step in np.arange(step_per_epoch):\n",
    "            play_result = two_came_in_one_came_out(agent_zeros, agent_ones)\n",
    "            if play_result == 0:\n",
    "                z_win += 1\n",
    "            elif play_result == 1:\n",
    "                o_win += 1\n",
    "            else:\n",
    "                draw += 1\n",
    "        history['epoch'].append(epoch)\n",
    "        history['zeros win'].append(z_win)\n",
    "        history['ones win'].append(o_win)\n",
    "        history['draw'].append(draw)\n",
    "    history = pd.DataFrame(history)\n",
    "    if plot_win:\n",
    "        plt.figure(figsize=(10, 8))\n",
    "        plt.plot(history['epoch'], (history['zeros win']/step_per_epoch)*100, 'b-', label = '% побед нуля в эпохе')\n",
    "        plt.plot(history['epoch'], (history['ones win']/step_per_epoch)*100, 'r-', label = '% побед креста в эпохе')\n",
    "        plt.plot(history['epoch'], (history['draw']/step_per_epoch)*100, 'k--', label = '% ничей в эпохе')\n",
    "        plt.xlim([0,epochs])\n",
    "        plt.ylim([0,101])\n",
    "        plt.grid()\n",
    "        plt.legend()\n",
    "        plt.show()\n",
    "    if save_config:\n",
    "        agent_ones.save_weight()\n",
    "        agent_zeros.save_weight()"
   ]
  },
  {
   "cell_type": "code",
   "execution_count": 11,
   "metadata": {},
   "outputs": [
    {
     "data": {
      "text/plain": [
       "array([[ 1,  1,  1],\n",
       "       [ 1,  0,  0],\n",
       "       [-1,  0, -1]])"
      ]
     },
     "execution_count": 11,
     "metadata": {},
     "output_type": "execute_result"
    }
   ],
   "source": [
    "get_state_from_code('222211010')"
   ]
  },
  {
   "cell_type": "code",
   "execution_count": 12,
   "metadata": {},
   "outputs": [
    {
     "data": {
      "text/plain": [
       "'222211000'"
      ]
     },
     "execution_count": 12,
     "metadata": {},
     "output_type": "execute_result"
    }
   ],
   "source": [
    "get_code_from_state(np.array([[ 1,  1,  1],[ 1,  0,  0], [-1, -1, -1]]))"
   ]
  },
  {
   "cell_type": "code",
   "execution_count": 13,
   "metadata": {},
   "outputs": [
    {
     "data": {
      "text/plain": [
       "{'state': ['222211200', '222211020', '222211002'],\n",
       " 'move': [(2, 0), (2, 1), (2, 2)]}"
      ]
     },
     "execution_count": 13,
     "metadata": {},
     "output_type": "execute_result"
    }
   ],
   "source": [
    "get_possible_move_from_code('222211000', 1)"
   ]
  },
  {
   "cell_type": "code",
   "execution_count": 14,
   "metadata": {},
   "outputs": [
    {
     "data": {
      "text/plain": [
       "{'state': ['100000000',\n",
       "  '010000000',\n",
       "  '001000000',\n",
       "  '000100000',\n",
       "  '000010000',\n",
       "  '000001000',\n",
       "  '000000100',\n",
       "  '000000010',\n",
       "  '000000001'],\n",
       " 'move': [(0, 0),\n",
       "  (0, 1),\n",
       "  (0, 2),\n",
       "  (1, 0),\n",
       "  (1, 1),\n",
       "  (1, 2),\n",
       "  (2, 0),\n",
       "  (2, 1),\n",
       "  (2, 2)]}"
      ]
     },
     "execution_count": 14,
     "metadata": {},
     "output_type": "execute_result"
    }
   ],
   "source": [
    "get_possible_move_from_code('000000000', 0)"
   ]
  },
  {
   "cell_type": "code",
   "execution_count": 15,
   "metadata": {},
   "outputs": [
    {
     "data": {
      "text/html": [
       "<div>\n",
       "<style scoped>\n",
       "    .dataframe tbody tr th:only-of-type {\n",
       "        vertical-align: middle;\n",
       "    }\n",
       "\n",
       "    .dataframe tbody tr th {\n",
       "        vertical-align: top;\n",
       "    }\n",
       "\n",
       "    .dataframe thead th {\n",
       "        text-align: right;\n",
       "    }\n",
       "</style>\n",
       "<table border=\"1\" class=\"dataframe\">\n",
       "  <thead>\n",
       "    <tr style=\"text-align: right;\">\n",
       "      <th></th>\n",
       "      <th>value</th>\n",
       "      <th>possible_moves</th>\n",
       "    </tr>\n",
       "    <tr>\n",
       "      <th>states</th>\n",
       "      <th></th>\n",
       "      <th></th>\n",
       "    </tr>\n",
       "  </thead>\n",
       "  <tbody>\n",
       "    <tr>\n",
       "      <th>000000000</th>\n",
       "      <td>0.5</td>\n",
       "      <td>{'state': ['100000000', '010000000', '00100000...</td>\n",
       "    </tr>\n",
       "    <tr>\n",
       "      <th>000000001</th>\n",
       "      <td>0.5</td>\n",
       "      <td>{'state': ['100000001', '010000001', '00100000...</td>\n",
       "    </tr>\n",
       "    <tr>\n",
       "      <th>000000002</th>\n",
       "      <td>0.5</td>\n",
       "      <td>{'state': ['100000002', '010000002', '00100000...</td>\n",
       "    </tr>\n",
       "    <tr>\n",
       "      <th>000000010</th>\n",
       "      <td>0.5</td>\n",
       "      <td>{'state': ['100000010', '010000010', '00100001...</td>\n",
       "    </tr>\n",
       "    <tr>\n",
       "      <th>000000011</th>\n",
       "      <td>0.5</td>\n",
       "      <td>{'state': ['100000011', '010000011', '00100001...</td>\n",
       "    </tr>\n",
       "  </tbody>\n",
       "</table>\n",
       "</div>"
      ],
      "text/plain": [
       "           value                                     possible_moves\n",
       "states                                                             \n",
       "000000000    0.5  {'state': ['100000000', '010000000', '00100000...\n",
       "000000001    0.5  {'state': ['100000001', '010000001', '00100000...\n",
       "000000002    0.5  {'state': ['100000002', '010000002', '00100000...\n",
       "000000010    0.5  {'state': ['100000010', '010000010', '00100001...\n",
       "000000011    0.5  {'state': ['100000011', '010000011', '00100001..."
      ]
     },
     "execution_count": 15,
     "metadata": {},
     "output_type": "execute_result"
    }
   ],
   "source": [
    "state_generate(False).head() #нули"
   ]
  },
  {
   "cell_type": "code",
   "execution_count": 16,
   "metadata": {},
   "outputs": [
    {
     "data": {
      "text/html": [
       "<div>\n",
       "<style scoped>\n",
       "    .dataframe tbody tr th:only-of-type {\n",
       "        vertical-align: middle;\n",
       "    }\n",
       "\n",
       "    .dataframe tbody tr th {\n",
       "        vertical-align: top;\n",
       "    }\n",
       "\n",
       "    .dataframe thead th {\n",
       "        text-align: right;\n",
       "    }\n",
       "</style>\n",
       "<table border=\"1\" class=\"dataframe\">\n",
       "  <thead>\n",
       "    <tr style=\"text-align: right;\">\n",
       "      <th></th>\n",
       "      <th>value</th>\n",
       "      <th>possible_moves</th>\n",
       "    </tr>\n",
       "    <tr>\n",
       "      <th>states</th>\n",
       "      <th></th>\n",
       "      <th></th>\n",
       "    </tr>\n",
       "  </thead>\n",
       "  <tbody>\n",
       "    <tr>\n",
       "      <th>000000000</th>\n",
       "      <td>0.5</td>\n",
       "      <td>{'state': ['200000000', '020000000', '00200000...</td>\n",
       "    </tr>\n",
       "    <tr>\n",
       "      <th>000000001</th>\n",
       "      <td>0.5</td>\n",
       "      <td>{'state': ['200000001', '020000001', '00200000...</td>\n",
       "    </tr>\n",
       "    <tr>\n",
       "      <th>000000002</th>\n",
       "      <td>0.5</td>\n",
       "      <td>{'state': ['200000002', '020000002', '00200000...</td>\n",
       "    </tr>\n",
       "    <tr>\n",
       "      <th>000000010</th>\n",
       "      <td>0.5</td>\n",
       "      <td>{'state': ['200000010', '020000010', '00200001...</td>\n",
       "    </tr>\n",
       "    <tr>\n",
       "      <th>000000011</th>\n",
       "      <td>0.5</td>\n",
       "      <td>{'state': ['200000011', '020000011', '00200001...</td>\n",
       "    </tr>\n",
       "  </tbody>\n",
       "</table>\n",
       "</div>"
      ],
      "text/plain": [
       "           value                                     possible_moves\n",
       "states                                                             \n",
       "000000000    0.5  {'state': ['200000000', '020000000', '00200000...\n",
       "000000001    0.5  {'state': ['200000001', '020000001', '00200000...\n",
       "000000002    0.5  {'state': ['200000002', '020000002', '00200000...\n",
       "000000010    0.5  {'state': ['200000010', '020000010', '00200001...\n",
       "000000011    0.5  {'state': ['200000011', '020000011', '00200001..."
      ]
     },
     "execution_count": 16,
     "metadata": {},
     "output_type": "execute_result"
    }
   ],
   "source": [
    "state_generate(True).head() #кресты"
   ]
  },
  {
   "cell_type": "markdown",
   "metadata": {},
   "source": [
    "#### 1 Раунд"
   ]
  },
  {
   "cell_type": "code",
   "execution_count": 62,
   "metadata": {},
   "outputs": [],
   "source": [
    "zeros = AgentTicTac(True)\n",
    "ones = AgentTicTac(False)"
   ]
  },
  {
   "cell_type": "code",
   "execution_count": 63,
   "metadata": {},
   "outputs": [
    {
     "name": "stdout",
     "output_type": "stream",
     "text": [
      "[[ 1 -1 -1]\n",
      " [-1 -1 -1]\n",
      " [-1 -1 -1]]\n",
      "\n",
      "[[ 1 -1 -1]\n",
      " [ 0 -1 -1]\n",
      " [-1 -1 -1]]\n",
      "\n",
      "[[ 1  1 -1]\n",
      " [ 0 -1 -1]\n",
      " [-1 -1 -1]]\n",
      "\n",
      "[[ 1  1 -1]\n",
      " [ 0  0 -1]\n",
      " [-1 -1 -1]]\n",
      "\n",
      "[[ 1  1  1]\n",
      " [ 0  0 -1]\n",
      " [-1 -1 -1]]\n",
      "\n"
     ]
    },
    {
     "data": {
      "text/plain": [
       "1"
      ]
     },
     "execution_count": 63,
     "metadata": {},
     "output_type": "execute_result"
    }
   ],
   "source": [
    "#1 - победа креста, 0 - победа нуля, -1 - ничья\n",
    "two_came_in_one_came_out(zeros, ones, print_state = True)"
   ]
  },
  {
   "cell_type": "code",
   "execution_count": 66,
   "metadata": {
    "scrolled": false
   },
   "outputs": [
    {
     "name": "stderr",
     "output_type": "stream",
     "text": [
      "100%|████████████████████████████████████████| 100/100 [20:14<00:00, 11.25s/it]\n"
     ]
    },
    {
     "data": {
      "image/png": "[encoded data removed]",
      "text/plain": [
       "<Figure size 720x576 with 1 Axes>"
      ]
     },
     "metadata": {
      "needs_background": "light"
     },
     "output_type": "display_data"
    }
   ],
   "source": [
    "zeros = AgentTicTac(True)\n",
    "ones = AgentTicTac(False)\n",
    "fit(zeros, ones, epochs = 100, step_per_epoch = 100, save_config = True, plot_win = True)"
   ]
  },
  {
   "cell_type": "markdown",
   "metadata": {},
   "source": [
    "## Эволюционный подход"
   ]
  },
  {
   "cell_type": "code",
   "execution_count": 10,
   "metadata": {},
   "outputs": [],
   "source": [
    "#Начальная инициализация\n",
    "#Случайное распределение весов у стратегий\n",
    "import numpy as np\n",
    "#генирация состояний со следующими ходами\n",
    "#гениратор состояний\n",
    "def state_generate_evolut(label):\n",
    "    states = []\n",
    "    values = []\n",
    "    for i in range(19683):\n",
    "        s = np.base_repr(i,base=3)\n",
    "        s = '0'*(9-len(s)) + s\n",
    "        states.append(s)\n",
    "        if check_win(get_state_from_code(s), label):\n",
    "            values.append(1)\n",
    "        else:\n",
    "            values.append(np.random.sample())\n",
    "    states = np.array(states)\n",
    "    pos_st = []\n",
    "    for state_code in states:\n",
    "        pos_st.append(get_possible_move_from_code(state_code, label))\n",
    "    return pd.DataFrame({'states':states, 'value':values,'possible_moves':pos_st}).set_index('states')"
   ]
  },
  {
   "cell_type": "code",
   "execution_count": 58,
   "metadata": {},
   "outputs": [
    {
     "data": {
      "text/html": [
       "<div>\n",
       "<style scoped>\n",
       "    .dataframe tbody tr th:only-of-type {\n",
       "        vertical-align: middle;\n",
       "    }\n",
       "\n",
       "    .dataframe tbody tr th {\n",
       "        vertical-align: top;\n",
       "    }\n",
       "\n",
       "    .dataframe thead th {\n",
       "        text-align: right;\n",
       "    }\n",
       "</style>\n",
       "<table border=\"1\" class=\"dataframe\">\n",
       "  <thead>\n",
       "    <tr style=\"text-align: right;\">\n",
       "      <th></th>\n",
       "      <th>value</th>\n",
       "      <th>possible_moves</th>\n",
       "    </tr>\n",
       "    <tr>\n",
       "      <th>states</th>\n",
       "      <th></th>\n",
       "      <th></th>\n",
       "    </tr>\n",
       "  </thead>\n",
       "  <tbody>\n",
       "    <tr>\n",
       "      <th>000000000</th>\n",
       "      <td>0.495245</td>\n",
       "      <td>{'state': ['100000000', '010000000', '00100000...</td>\n",
       "    </tr>\n",
       "    <tr>\n",
       "      <th>000000001</th>\n",
       "      <td>0.565389</td>\n",
       "      <td>{'state': ['100000001', '010000001', '00100000...</td>\n",
       "    </tr>\n",
       "    <tr>\n",
       "      <th>000000002</th>\n",
       "      <td>0.368132</td>\n",
       "      <td>{'state': ['100000002', '010000002', '00100000...</td>\n",
       "    </tr>\n",
       "    <tr>\n",
       "      <th>000000010</th>\n",
       "      <td>0.489431</td>\n",
       "      <td>{'state': ['100000010', '010000010', '00100001...</td>\n",
       "    </tr>\n",
       "    <tr>\n",
       "      <th>000000011</th>\n",
       "      <td>0.176905</td>\n",
       "      <td>{'state': ['100000011', '010000011', '00100001...</td>\n",
       "    </tr>\n",
       "  </tbody>\n",
       "</table>\n",
       "</div>"
      ],
      "text/plain": [
       "              value                                     possible_moves\n",
       "states                                                                \n",
       "000000000  0.495245  {'state': ['100000000', '010000000', '00100000...\n",
       "000000001  0.565389  {'state': ['100000001', '010000001', '00100000...\n",
       "000000002  0.368132  {'state': ['100000002', '010000002', '00100000...\n",
       "000000010  0.489431  {'state': ['100000010', '010000010', '00100001...\n",
       "000000011  0.176905  {'state': ['100000011', '010000011', '00100001..."
      ]
     },
     "execution_count": 58,
     "metadata": {},
     "output_type": "execute_result"
    }
   ],
   "source": [
    "s = state_generate(False)\n",
    "s.head()"
   ]
  },
  {
   "cell_type": "code",
   "execution_count": 46,
   "metadata": {},
   "outputs": [
    {
     "data": {
      "text/plain": [
       "'000000001'"
      ]
     },
     "execution_count": 46,
     "metadata": {},
     "output_type": "execute_result"
    }
   ],
   "source": [
    "s.index[1]"
   ]
  },
  {
   "cell_type": "code",
   "execution_count": 62,
   "metadata": {},
   "outputs": [],
   "source": [
    "# типо изменение весов\n",
    "#perc – доля объектов, которые надо изменить\n",
    "def change_states_val(state_tab, perc, bound):\n",
    "    state_table = state_tab.copy()\n",
    "    \n",
    "    rows_cnt = round(state_table.shape[0] * perc,)\n",
    "    ind_ch = np.random.randint(0, state_table.shape[0], rows_cnt)\n",
    "    for i in ind_ch:\n",
    "        state_table.loc[state_table.index[i],'value'] = (state_table.loc[state_table.index[i],'value'] \n",
    "                                                +(np.random.random() - .5)*2*bound)\n",
    "    return state_table"
   ]
  },
  {
   "cell_type": "code",
   "execution_count": 64,
   "metadata": {},
   "outputs": [
    {
     "data": {
      "text/html": [
       "<div>\n",
       "<style scoped>\n",
       "    .dataframe tbody tr th:only-of-type {\n",
       "        vertical-align: middle;\n",
       "    }\n",
       "\n",
       "    .dataframe tbody tr th {\n",
       "        vertical-align: top;\n",
       "    }\n",
       "\n",
       "    .dataframe thead th {\n",
       "        text-align: right;\n",
       "    }\n",
       "</style>\n",
       "<table border=\"1\" class=\"dataframe\">\n",
       "  <thead>\n",
       "    <tr style=\"text-align: right;\">\n",
       "      <th></th>\n",
       "      <th>value</th>\n",
       "      <th>possible_moves</th>\n",
       "    </tr>\n",
       "    <tr>\n",
       "      <th>states</th>\n",
       "      <th></th>\n",
       "      <th></th>\n",
       "    </tr>\n",
       "  </thead>\n",
       "  <tbody>\n",
       "    <tr>\n",
       "      <th>000000000</th>\n",
       "      <td>0.495245</td>\n",
       "      <td>{'state': ['100000000', '010000000', '00100000...</td>\n",
       "    </tr>\n",
       "    <tr>\n",
       "      <th>000000001</th>\n",
       "      <td>0.565389</td>\n",
       "      <td>{'state': ['100000001', '010000001', '00100000...</td>\n",
       "    </tr>\n",
       "    <tr>\n",
       "      <th>000000002</th>\n",
       "      <td>0.358774</td>\n",
       "      <td>{'state': ['100000002', '010000002', '00100000...</td>\n",
       "    </tr>\n",
       "    <tr>\n",
       "      <th>000000010</th>\n",
       "      <td>0.489431</td>\n",
       "      <td>{'state': ['100000010', '010000010', '00100001...</td>\n",
       "    </tr>\n",
       "    <tr>\n",
       "      <th>000000011</th>\n",
       "      <td>0.083735</td>\n",
       "      <td>{'state': ['100000011', '010000011', '00100001...</td>\n",
       "    </tr>\n",
       "  </tbody>\n",
       "</table>\n",
       "</div>"
      ],
      "text/plain": [
       "              value                                     possible_moves\n",
       "states                                                                \n",
       "000000000  0.495245  {'state': ['100000000', '010000000', '00100000...\n",
       "000000001  0.565389  {'state': ['100000001', '010000001', '00100000...\n",
       "000000002  0.358774  {'state': ['100000002', '010000002', '00100000...\n",
       "000000010  0.489431  {'state': ['100000010', '010000010', '00100001...\n",
       "000000011  0.083735  {'state': ['100000011', '010000011', '00100001..."
      ]
     },
     "execution_count": 64,
     "metadata": {},
     "output_type": "execute_result"
    }
   ],
   "source": [
    "change_states_val(s, 0.7, 0.1).head()"
   ]
  }
 ],
 "metadata": {
  "kernelspec": {
   "display_name": "Python 3",
   "language": "python",
   "name": "python3"
  },
  "language_info": {
   "codemirror_mode": {
    "name": "ipython",
    "version": 3
   },
   "file_extension": ".py",
   "mimetype": "text/x-python",
   "name": "python",
   "nbconvert_exporter": "python",
   "pygments_lexer": "ipython3",
   "version": "3.7.3"
  }
 },
 "nbformat": 4,
 "nbformat_minor": 2
}
