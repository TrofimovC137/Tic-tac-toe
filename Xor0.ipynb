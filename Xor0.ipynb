{
 "cells": [
  {
   "cell_type": "markdown",
   "metadata": {},
   "source": [
    "## В классе\n",
    "Придумать спецификацию класса агента – игрока\n",
    "\n",
    "## Дома\n",
    "Написать класс, который берет два экземпляра классов агентов и играет\n",
    "\n",
    "Реализовать игроков на на основе обучения с подкреплением и эволюционного подхода\n",
    "\n",
    "Поведём состязание\n",
    "\n",
    "Проверить: как лучше – корректировать ценности после всех ходов или только \"жадных\"?"
   ]
  },
  {
   "cell_type": "code",
   "execution_count": 1,
   "metadata": {},
   "outputs": [],
   "source": [
    "import numpy as np"
   ]
  },
  {
   "cell_type": "code",
   "execution_count": 134,
   "metadata": {},
   "outputs": [],
   "source": [
    "def check_win(a,lable):\n",
    "    for i in range(3):\n",
    "        if np.all(a[i,:] == int(lable)):\n",
    "            return True\n",
    "        elif np.all(a[:,i] == int(lable)):\n",
    "            return True\n",
    "    if np.all(np.fliplr(a).diagonal() == int(lable)):\n",
    "        return True\n",
    "    if np.all(a.diagonal() == int(lable)):\n",
    "        return True\n",
    "    return False"
   ]
  },
  {
   "cell_type": "code",
   "execution_count": 137,
   "metadata": {},
   "outputs": [
    {
     "data": {
      "text/plain": [
       "True"
      ]
     },
     "execution_count": 137,
     "metadata": {},
     "output_type": "execute_result"
    }
   ],
   "source": [
    "a = np.matrix([[0,1,1],[0,1,1],[0,1,0]])\n",
    "check_win(a, True)"
   ]
  }
 ],
 "metadata": {
  "kernelspec": {
   "display_name": "Python 3",
   "language": "python",
   "name": "python3"
  },
  "language_info": {
   "codemirror_mode": {
    "name": "ipython",
    "version": 3
   },
   "file_extension": ".py",
   "mimetype": "text/x-python",
   "name": "python",
   "nbconvert_exporter": "python",
   "pygments_lexer": "ipython3",
   "version": "3.7.3"
  }
 },
 "nbformat": 4,
 "nbformat_minor": 2
}
